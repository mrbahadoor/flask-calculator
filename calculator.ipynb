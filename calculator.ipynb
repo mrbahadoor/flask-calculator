{
 "cells": [
  {
   "cell_type": "markdown",
   "id": "06f177fd",
   "metadata": {},
   "source": [
    "## Calculator project using flask"
   ]
  },
  {
   "cell_type": "code",
   "execution_count": null,
   "id": "8942f410",
   "metadata": {},
   "outputs": [],
   "source": [
    "from flask import Flask, render_template, request, flash\n",
    "app = Flask(__name__)\n",
    "\n",
    "@app.route(\"/\")\n",
    "def index():    \n",
    "    #operations dictionary\n",
    "    math_operations = ['add', 'subtract', 'multiply', 'divide', 'modulus', 'exponential']\n",
    "    \n",
    "    return render_template(\"index.html\", math_operations=math_operations)\n",
    "    \n",
    "if __name__ == '__main__': #we are in the same file as module\n",
    "    app.run()"
   ]
  },
  {
   "cell_type": "code",
   "execution_count": null,
   "id": "b8f23669",
   "metadata": {},
   "outputs": [],
   "source": []
  }
 ],
 "metadata": {
  "kernelspec": {
   "display_name": "Python 3 (ipykernel)",
   "language": "python",
   "name": "python3"
  },
  "language_info": {
   "codemirror_mode": {
    "name": "ipython",
    "version": 3
   },
   "file_extension": ".py",
   "mimetype": "text/x-python",
   "name": "python",
   "nbconvert_exporter": "python",
   "pygments_lexer": "ipython3",
   "version": "3.10.9"
  }
 },
 "nbformat": 4,
 "nbformat_minor": 5
}
