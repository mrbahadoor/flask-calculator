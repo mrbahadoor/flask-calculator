{
 "cells": [
  {
   "cell_type": "markdown",
   "id": "271059dc",
   "metadata": {},
   "source": [
    "## Calculator project using flask"
   ]
  },
  {
   "cell_type": "code",
   "execution_count": null,
   "id": "3148eeca",
   "metadata": {},
   "outputs": [
    {
     "name": "stdout",
     "output_type": "stream",
     "text": [
      " * Serving Flask app '__main__'\n",
      " * Debug mode: off\n"
     ]
    },
    {
     "name": "stderr",
     "output_type": "stream",
     "text": [
      "WARNING: This is a development server. Do not use it in a production deployment. Use a production WSGI server instead.\n",
      " * Running on http://127.0.0.1:5000\n",
      "Press CTRL+C to quit\n",
      "[2023-09-18 18:52:33,571] ERROR in app: Exception on / [GET]\n",
      "Traceback (most recent call last):\n",
      "  File \"C:\\ProgramData\\anaconda3\\lib\\site-packages\\flask\\app.py\", line 2525, in wsgi_app\n",
      "    response = self.full_dispatch_request()\n",
      "  File \"C:\\ProgramData\\anaconda3\\lib\\site-packages\\flask\\app.py\", line 1822, in full_dispatch_request\n",
      "    rv = self.handle_user_exception(e)\n",
      "  File \"C:\\ProgramData\\anaconda3\\lib\\site-packages\\flask\\app.py\", line 1820, in full_dispatch_request\n",
      "    rv = self.dispatch_request()\n",
      "  File \"C:\\ProgramData\\anaconda3\\lib\\site-packages\\flask\\app.py\", line 1796, in dispatch_request\n",
      "    return self.ensure_sync(self.view_functions[rule.endpoint])(**view_args)\n",
      "  File \"C:\\Users\\Rushdi Bahadoor\\AppData\\Local\\Temp\\ipykernel_10748\\4248900010.py\", line 9, in index\n",
      "    return render_template(\"index.html\", maths_operations=maths_operations)\n",
      "  File \"C:\\ProgramData\\anaconda3\\lib\\site-packages\\flask\\templating.py\", line 147, in render_template\n",
      "    return _render(app, template, context)\n",
      "  File \"C:\\ProgramData\\anaconda3\\lib\\site-packages\\flask\\templating.py\", line 130, in _render\n",
      "    rv = template.render(context)\n",
      "  File \"C:\\ProgramData\\anaconda3\\lib\\site-packages\\jinja2\\environment.py\", line 1301, in render\n",
      "    self.environment.handle_exception()\n",
      "  File \"C:\\ProgramData\\anaconda3\\lib\\site-packages\\jinja2\\environment.py\", line 936, in handle_exception\n",
      "    raise rewrite_traceback_stack(source=source)\n",
      "  File \"C:\\Users\\Rushdi Bahadoor\\Desktop\\Datamites\\projects\\templates\\index.html\", line 32, in top-level template code\n",
      "    {{math_operations[0]}}\n",
      "  File \"C:\\ProgramData\\anaconda3\\lib\\site-packages\\jinja2\\environment.py\", line 466, in getitem\n",
      "    return obj[argument]\n",
      "jinja2.exceptions.UndefinedError: 'math_operations' is undefined\n",
      "127.0.0.1 - - [18/Sep/2023 18:52:33] \"GET / HTTP/1.1\" 500 -\n"
     ]
    }
   ],
   "source": [
    "from flask import Flask, render_template, request, flash\n",
    "app = Flask(__name__)\n",
    "\n",
    "@app.route(\"/\")\n",
    "def index():    \n",
    "    #operations dictionary\n",
    "    math_operations = ['add', 'subtract', 'multiply', 'divide', 'modulus', 'exponential']\n",
    "    \n",
    "    return render_template(\"index.html\", math_operations=math_operations)\n",
    "    \n",
    "if __name__ == '__main__': #we are in the same file as module\n",
    "    app.run()"
   ]
  },
  {
   "cell_type": "code",
   "execution_count": null,
   "id": "bf7d35ee",
   "metadata": {},
   "outputs": [],
   "source": []
  }
 ],
 "metadata": {
  "kernelspec": {
   "display_name": "Python 3 (ipykernel)",
   "language": "python",
   "name": "python3"
  },
  "language_info": {
   "codemirror_mode": {
    "name": "ipython",
    "version": 3
   },
   "file_extension": ".py",
   "mimetype": "text/x-python",
   "name": "python",
   "nbconvert_exporter": "python",
   "pygments_lexer": "ipython3",
   "version": "3.10.9"
  }
 },
 "nbformat": 4,
 "nbformat_minor": 5
}
